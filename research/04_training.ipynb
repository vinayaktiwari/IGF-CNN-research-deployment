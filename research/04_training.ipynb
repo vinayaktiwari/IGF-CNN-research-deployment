{
 "cells": [
  {
   "cell_type": "code",
   "execution_count": 1,
   "metadata": {},
   "outputs": [
    {
     "name": "stderr",
     "output_type": "stream",
     "text": [
      "2023-08-05 22:50:49.380994: I tensorflow/core/util/port.cc:110] oneDNN custom operations are on. You may see slightly different numerical results due to floating-point round-off errors from different computation orders. To turn them off, set the environment variable `TF_ENABLE_ONEDNN_OPTS=0`.\n",
      "2023-08-05 22:50:49.382980: I tensorflow/tsl/cuda/cudart_stub.cc:28] Could not find cuda drivers on your machine, GPU will not be used.\n",
      "2023-08-05 22:50:49.433537: I tensorflow/tsl/cuda/cudart_stub.cc:28] Could not find cuda drivers on your machine, GPU will not be used.\n",
      "2023-08-05 22:50:49.434668: I tensorflow/core/platform/cpu_feature_guard.cc:182] This TensorFlow binary is optimized to use available CPU instructions in performance-critical operations.\n",
      "To enable the following instructions: AVX2 AVX512F AVX512_VNNI FMA, in other operations, rebuild TensorFlow with the appropriate compiler flags.\n",
      "2023-08-05 22:50:50.361471: W tensorflow/compiler/tf2tensorrt/utils/py_utils.cc:38] TF-TRT Warning: Could not find TensorRT\n"
     ]
    }
   ],
   "source": [
    "import numpy as np\n",
    "from keras.models import load_model\n",
    "from keras.preprocessing import image\n",
    "import os\n",
    "\n",
    "class PredictionPipeline:\n",
    "    def __init__(self,filename):\n",
    "        self.filename = filename\n",
    "\n",
    "    def predict(self):\n",
    "        # load model\n",
    "        model = load_model(os.path.join(\"artifacts\", \"training\", \"model.h5\"))\n",
    "\n",
    "        imagename = self.filename\n",
    "        test_image = image.load_img(imagename, target_size=(250, 250))\n",
    "        test_image = image.img_to_array(test_image)\n",
    "        test_image = np.expand_dims(test_image, axis=0)\n",
    "        probabilities = model.predict(test_image)[0]\n",
    "\n",
    "        # Define class labels\n",
    "        class_labels = ['COVID', 'NORMAL', 'VIRAL-PNEUMONIA']  \n",
    "\n",
    "        predicted_class_index = np.argmax(probabilities)\n",
    "        prediction = class_labels[predicted_class_index]\n",
    "\n",
    "        # Get the predicted probability for the predicted class\n",
    "        predicted_probability = probabilities[predicted_class_index]\n",
    "\n",
    "        # Return the prediction and probabilities as a dictionary\n",
    "        return [{\"image\": prediction, \"probability\": float(predicted_probability)}]\n",
    "    \n"
   ]
  },
  {
   "cell_type": "code",
   "execution_count": null,
   "metadata": {},
   "outputs": [],
   "source": []
  }
 ],
 "metadata": {
  "kernelspec": {
   "display_name": "venv",
   "language": "python",
   "name": "python3"
  },
  "language_info": {
   "codemirror_mode": {
    "name": "ipython",
    "version": 3
   },
   "file_extension": ".py",
   "mimetype": "text/x-python",
   "name": "python",
   "nbconvert_exporter": "python",
   "pygments_lexer": "ipython3",
   "version": "3.8.10"
  },
  "orig_nbformat": 4
 },
 "nbformat": 4,
 "nbformat_minor": 2
}
